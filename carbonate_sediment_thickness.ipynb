{
 "cells": [
  {
   "cell_type": "code",
   "execution_count": 4,
   "metadata": {},
   "outputs": [],
   "source": [
    "#\n",
    "# Generate carbonate sediment thickness grids from age, mean distance and bathymetry grids\n",
    "# over the time range 0-230Ma (in 1My increments).\n",
    "#\n",
    "# See \"carbonate_sediment_thickness.py\" for details of the algorithm.\n",
    "#"
   ]
  },
  {
   "cell_type": "code",
   "execution_count": 5,
   "metadata": {},
   "outputs": [],
   "source": [
    "import carbonate_sediment_thickness\n",
    "import os.path\n",
    "import os\n",
    "\n",
    "#\n",
    "# Input Parameters.\n",
    "#\n",
    "\n",
    "# Grid spacing of ocean basin points (in degrees).\n",
    "grid_spacing = 0.5\n",
    "\n",
    "# Regional latitude and longitude range.\n",
    "# Keep latitudes in the range [-90, 90] and longitudes the in range [-180, 180].\n",
    "# Set to [-90, 90] and [-180, 180] to cover the entire globe.\n",
    "min_lat, max_lat = -90, 90\n",
    "min_lon, max_lon = -180, 180\n",
    "\n",
    "# Times to generate sediment thickness grids.\n",
    "# Must also have age and bathymetry grids at these times.\n",
    "times = range(0, 231)\n",
    "\n",
    "# Whether to use all CPU cores (parallel) or just one (serial).\n",
    "# Note: Each process is set to a low priority so as not to interfere with your regular tasks.\n",
    "use_all_cpu_cores = True\n",
    "\n",
    "# Oceanic tectonic subsidence model (maps ocean age to depth).\n",
    "# Current models:\n",
    "# GDH1 (Stein and Stein 1992)   - carbonate_sediment_thickness.age_to_depth_GDH1\n",
    "# RHCW18 (Richards et al. 2020) - carbonate_sediment_thickness.age_to_depth_RHCW18\n",
    "age_to_depth_curve = carbonate_sediment_thickness.age_to_depth_GDH1\n",
    "#age_to_depth_curve = carbonate_sediment_thickness.age_to_depth_RHCW18\n",
    "\n",
    "# CCD (calcite compensation depth) curve filename.\n",
    "# This file maps time to CCD depth (negative).\n",
    "ccd_curve_filename = 'input_data/Boss_Wilkinson_1991_global_CCD.txt'\n",
    "\n",
    "# Maximum carbonate decompacted sediment rate curve filename (in cm/ky).\n",
    "# This file maps time to the maximum carbonate rate (at mid-ocean ridge depth; reduces to zero at CCD).\n",
    "max_carbonate_decomp_sed_rate_cm_per_ky_curve_filename = 'input_data/sed_rate_v6.txt'\n",
    "\n",
    "# Location of age grids.\n",
    "# The full path to grids including filename, but with time and filename extension removed.\n",
    "age_grid_filename_prefix = 'E:/Users/John/Downloads/GPlates/data/rasters/Muller_etal_2016_AREPS_Agegrids/netCDF_0-230Ma/EarthByte_AREPS_Muller_etal_2016_AgeGrid-'\n",
    "# Filename extension (typically 'nc' or 'grd').\n",
    "age_grid_filename_extension = 'nc'\n",
    "\n",
    "# Location of bathymetry grids.\n",
    "# The full path to grids including filename, but with time and filename extension removed.\n",
    "bathymetry_filename_prefix = 'E:/Users/John/Downloads/GPlates/data/rasters/Sioned/02_Paleobathymetry_with_seds_LIPs_Sioned/pbathy-with-seds-and-LIPs-AREPS-muller-etal-'\n",
    "# Filename extension (typically 'nc' or 'grd').\n",
    "bathymetry_filename_extension = 'grd'\n",
    "\n",
    "# Location of mean-distance-to-passive-margins grids.\n",
    "# The full path to grids including filename, but with time and filename extension removed.\n",
    "distance_filename_prefix = 'E:/Users/John/Downloads/GPlates/data/PythonWorkflows/SedimentationRate/shortest_path_distance_grids_clamped_1d/grid_reg_mean_distance_1.0d_'\n",
    "# Filename extension (typically 'nc' or 'grd').\n",
    "distance_filename_extension = 'nc'\n",
    "\n",
    "# Location of output carbonate decompacted and compacted sediment thickness grids.\n",
    "# The full path to thickness grids including the base filename\n",
    "# (grid spacing, time and filename extension will get added later).\n",
    "output_data_dir = 'sediment_thickness'\n",
    "carbonate_decompacted_sediment_thickness_filename_prefix = os.path.join(output_data_dir, 'decompacted_sediment_thickness')\n",
    "carbonate_compacted_sediment_thickness_filename_prefix = os.path.join(output_data_dir, 'compacted_sediment_thickness')\n",
    "carbonate_deposition_mask_filename_prefix = os.path.join(output_data_dir, 'deposition_mask')"
   ]
  },
  {
   "cell_type": "code",
   "execution_count": 6,
   "metadata": {},
   "outputs": [
    {
     "name": "stdout",
     "output_type": "stream",
     "text": [
      "Starting...\n",
      "...finished.\n"
     ]
    }
   ],
   "source": [
    "if __name__ == '__main__':\n",
    "    \n",
    "    # Create output directory if it doesn't exist.\n",
    "    if not os.path.exists(output_data_dir):\n",
    "        os.makedirs(output_data_dir)\n",
    "    \n",
    "    # All functionality is delegated to \"carbonate_sediment_thickness.py\" to enable parallel processing.\n",
    "    carbonate_sediment_thickness.predict_sedimentation_and_write_data_for_times(\n",
    "            times,\n",
    "            (min_lat, max_lat),\n",
    "            (min_lon, max_lon),\n",
    "            grid_spacing,\n",
    "            age_to_depth_curve,\n",
    "            ccd_curve_filename,\n",
    "            max_carbonate_decomp_sed_rate_cm_per_ky_curve_filename,\n",
    "            age_grid_filename_prefix,\n",
    "            age_grid_filename_extension,\n",
    "            distance_filename_prefix,\n",
    "            distance_filename_extension,\n",
    "            bathymetry_filename_prefix,\n",
    "            bathymetry_filename_extension,\n",
    "            carbonate_decompacted_sediment_thickness_filename_prefix,\n",
    "            carbonate_compacted_sediment_thickness_filename_prefix,\n",
    "            carbonate_deposition_mask_filename_prefix,\n",
    "            use_all_cpu_cores)"
   ]
  }
 ],
 "metadata": {
  "kernelspec": {
   "display_name": "Python 3",
   "language": "python",
   "name": "python3"
  },
  "language_info": {
   "codemirror_mode": {
    "name": "ipython",
    "version": 3
   },
   "file_extension": ".py",
   "mimetype": "text/x-python",
   "name": "python",
   "nbconvert_exporter": "python",
   "pygments_lexer": "ipython3",
   "version": "3.7.9"
  }
 },
 "nbformat": 4,
 "nbformat_minor": 2
}
