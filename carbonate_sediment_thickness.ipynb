{
 "cells": [
  {
   "cell_type": "code",
   "execution_count": 1,
   "metadata": {
    "collapsed": true
   },
   "outputs": [],
   "source": [
    "#\n",
    "# Generate carbonate sediment thickness grids from age, mean distance and bathymetry grids\n",
    "# over the time range 0-230Ma (in 1My increments).\n",
    "#\n",
    "# See \"carbonate_sediment_thickness.py\" for details of the algorithm.\n",
    "#"
   ]
  },
  {
   "cell_type": "code",
   "execution_count": null,
   "metadata": {
    "collapsed": true
   },
   "outputs": [],
   "source": [
    "#\n",
    "# Input Parameters.\n",
    "#\n",
    "\n",
    "# Grid spacing of ocean basin points (in degrees).\n",
    "grid_spacing = 0.5\n",
    "\n",
    "# Times to generate sediment thickness grids.\n",
    "# Must also have age and bathymetry grids at these times.\n",
    "times = range(0, 231)\n",
    "\n",
    "# Whether to use all CPU cores (parallel) or just one (serial).\n",
    "# Note: Each process is set to a low priority so as not to interfere with your regular tasks.\n",
    "use_all_cpu_cores = True\n",
    "\n",
    "# CCD (calcite compensation depth) curve filename.\n",
    "# This file maps time to CCD depth (negative).\n",
    "ccd_curve_filename = 'input_data/Boss_Wilkinson_1991_global_CCD.txt'\n",
    "\n",
    "# Maximum carbonate decompacted sediment rate curve filename (in cm/ky).\n",
    "# This file maps time to the maximum carbonate rate (at mid-ocean ridge depth; reduces to zero at CCD).\n",
    "max_carbonate_decomp_sed_rate_cm_per_ky_curve_filename = 'input_data/sed_rate_400_to_0_Ma.txt'\n",
    "\n",
    "# Location of age grids.\n",
    "# The full path to grids including filename, but with time and filename extension removed.\n",
    "age_grid_filename_prefix = 'E:/Users/John/Downloads/GPlates/data/rasters/Muller_etal_2016_AREPS_Agegrids/netCDF_0-230Ma/EarthByte_AREPS_Muller_etal_2016_AgeGrid-'\n",
    "# Filename extension (typically 'nc' or 'grd').\n",
    "age_grid_filename_extension = 'nc'\n",
    "\n",
    "# Location of bathymetry grids.\n",
    "# The full path to grids including filename, but with time and filename extension removed.\n",
    "bathymetry_filename_prefix = 'E:/Users/John/Downloads/GPlates/data/rasters/Sioned/02_Paleobathymetry_with_seds_LIPs_Sioned/pbathy-with-seds-and-LIPs-AREPS-muller-etal-'\n",
    "# Filename extension (typically 'nc' or 'grd').\n",
    "bathymetry_filename_extension = 'grd'\n",
    "\n",
    "# Location of mean-distance-to-passive-margins grids.\n",
    "# The full path to grids including filename, but with time and filename extension removed.\n",
    "distance_filename_prefix = 'E:/Users/John/Downloads/GPlates/data/PythonWorkflows/SedimentationRate/shortest_path_distance_grids_clamped_1d/grid_reg_mean_distance_1.0d_'\n",
    "#distance_filename_prefix = 'D:/Users/john/Downloads/gplates/data/PythonWorkflows/SedimentationRate/shortest_path_distance_grids_clamped_1d/grid_reg_mean_distance_1.0d_'\n",
    "# Filename extension (typically 'nc' or 'grd').\n",
    "distance_filename_extension = 'nc'\n",
    "\n",
    "# Location of output carbonate decompacted and compacted sediment thickness grids.\n",
    "# The full path to thickness grids including the base filename\n",
    "# (grid spacing, time and filename extension will get added later).\n",
    "carbonate_decompacted_sediment_thickness_filename_prefix = 'sediment_thickness/decompacted_sediment_thickness'\n",
    "carbonate_compacted_sediment_thickness_filename_prefix = 'sediment_thickness/compacted_sediment_thickness'\n",
    "carbonate_deposition_mask_filename_prefix = 'sediment_thickness/deposition_mask'"
   ]
  },
  {
   "cell_type": "code",
   "execution_count": null,
   "metadata": {},
   "outputs": [
    {
     "name": "stdout",
     "output_type": "stream",
     "text": [
      "Starting...\n",
      "A\n",
      "B\n"
     ]
    }
   ],
   "source": [
    "import carbonate_sediment_thickness\n",
    "\n",
    "if __name__ == '__main__':\n",
    "    # All functionality is delegated to \"carbonate_sediment_thickness.py\" to enable parallel processing.\n",
    "    carbonate_sediment_thickness.predict_sedimentation_and_write_data_for_times(\n",
    "            times,\n",
    "            grid_spacing,\n",
    "            ccd_curve_filename,\n",
    "            max_carbonate_decomp_sed_rate_cm_per_ky_curve_filename,\n",
    "            age_grid_filename_prefix,\n",
    "            age_grid_filename_extension,\n",
    "            distance_filename_prefix,\n",
    "            distance_filename_extension,\n",
    "            bathymetry_filename_prefix,\n",
    "            bathymetry_filename_extension,\n",
    "            carbonate_decompacted_sediment_thickness_filename_prefix,\n",
    "            carbonate_compacted_sediment_thickness_filename_prefix,\n",
    "            carbonate_deposition_mask_filename_prefix,\n",
    "            use_all_cpu_cores)"
   ]
  }
 ],
 "metadata": {
  "kernelspec": {
   "display_name": "Python 2",
   "language": "python",
   "name": "python2"
  },
  "language_info": {
   "codemirror_mode": {
    "name": "ipython",
    "version": 2
   },
   "file_extension": ".py",
   "mimetype": "text/x-python",
   "name": "python",
   "nbconvert_exporter": "python",
   "pygments_lexer": "ipython2",
   "version": "2.7.13"
  }
 },
 "nbformat": 4,
 "nbformat_minor": 2
}
